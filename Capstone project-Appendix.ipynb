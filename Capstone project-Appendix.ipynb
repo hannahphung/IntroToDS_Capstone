{
 "cells": [
  {
   "cell_type": "markdown",
   "id": "99cf1100",
   "metadata": {},
   "source": [
    "# Capstone Project - Intro to Data Science"
   ]
  },
  {
   "cell_type": "markdown",
   "id": "9ee81199",
   "metadata": {},
   "source": [
    "Dataset description: This dataset features ratings data of 400 movies from 1097 research participants and is contained in the file “movieReplicationSet.csv”. It is organized as follows:\n",
    "1st row: Headers (Movie titles/questions) – note that the indexing in this list is from 1\n",
    "Row 2-1098: Responses from individual participants\n",
    "Columns 1-400: These columns contain the ratings for the 400 movies (0 to 4, and missing) Columns 401-420: These columns contain self-assessments on sensation seeking behaviors (1-5) Columns 421-464: These columns contain responses to personality questions (1-5)\n",
    "Columns 465-474: These columns contain self-reported movie experience ratings (1-5)\n",
    "Column 475: Gender identity (1 = female, 2 = male, 3 = self-described)\n",
    "Column 476: Only child (1 = yes, 0 = no, -1 = no response)\n",
    "Column 477: Social viewing preference – “movies are best enjoyed alone” (1 = y, 0 = n, -1 = nr)"
   ]
  },
  {
   "cell_type": "code",
   "execution_count": 679,
   "id": "713e8961",
   "metadata": {},
   "outputs": [],
   "source": [
    "# Load libraries/packages\n",
    "import numpy as np\n",
    "import pandas as pd\n",
    "import matplotlib.pyplot as plt\n",
    "from scipy import stats\n",
    "from sklearn.decomposition import PCA\n",
    "from sklearn.cluster import KMeans\n",
    "from sklearn.metrics import silhouette_samples\n",
    "from sklearn.cluster import DBSCAN\n",
    "from sklearn import svm\n",
    "from sklearn.ensemble import RandomForestClassifier\n",
    "from sklearn.metrics import accuracy_score\n",
    "from sklearn.model_selection import train_test_split\n",
    "from sklearn.metrics import plot_roc_curve\n",
    "from sklearn.linear_model import LinearRegression"
   ]
  },
  {
   "cell_type": "code",
   "execution_count": 761,
   "id": "b20355a0",
   "metadata": {},
   "outputs": [],
   "source": [
    "#Read data\n",
    "#Load data:\n",
    "df = pd.read_csv('movieReplicationSet.csv',skipinitialspace=True)\n",
    "# Fill empty strings with NaN; skip spaces after delimiter \n",
    "\n",
    "movieRatings = df.iloc[:,0:400]\n",
    "sensaSeek = df.iloc[:,400:420]\n",
    "personalities = df.iloc[:,420:464]\n",
    "movieExp = df.iloc[:,464:474]\n",
    "gender = df.iloc[:,474]\n",
    "onlyChild = df.iloc[:,475]\n",
    "socialViewPref = df.iloc[:,476]"
   ]
  },
  {
   "cell_type": "markdown",
   "id": "c5062955",
   "metadata": {},
   "source": [
    "### Question 1"
   ]
  },
  {
   "cell_type": "markdown",
   "id": "acf4ef27",
   "metadata": {},
   "source": [
    "What is the relationship between sensation seeking and movie experience?"
   ]
  },
  {
   "cell_type": "code",
   "execution_count": 762,
   "id": "19eea088",
   "metadata": {},
   "outputs": [],
   "source": [
    "combined = pd.concat([sensaSeek, movieExp], axis=1)\n",
    "combined = combined.dropna(axis=0,how='any')"
   ]
  },
  {
   "cell_type": "code",
   "execution_count": 764,
   "id": "7426250d",
   "metadata": {},
   "outputs": [
    {
     "data": {
      "image/png": "[encoded data removed]",
      "text/plain": [
       "<Figure size 432x288 with 1 Axes>"
      ]
     },
     "metadata": {
      "needs_background": "light"
     },
     "output_type": "display_data"
    },
    {
     "data": {
      "image/png": "[encoded data removed]",
      "text/plain": [
       "<Figure size 432x288 with 1 Axes>"
      ]
     },
     "metadata": {
      "needs_background": "light"
     },
     "output_type": "display_data"
    },
    {
     "name": "stdout",
     "output_type": "stream",
     "text": [
      "Index(['I enjoy driving fast', 'I enjoy rollercoasters ',\n",
      "       'Have you ever bungee-jumped?', 'I enjoy impulse shopping',\n",
      "       'I sometimes go out on weeknights even if I have work to do',\n",
      "       'I enjoy doing things without too much planning ',\n",
      "       'Have you ever been rock climbing?',\n",
      "       'I enjoy being in large loud crowds like the Times Square Ball Drop on New Years Eve',\n",
      "       'I enjoy going to large music or dance festivals ',\n",
      "       'I enjoy watching horror movies', 'No risk - No fun',\n",
      "       'I like to be surprised even if it startles or scares me',\n",
      "       'Have you ever parachuted?', 'I enjoy haunted houses',\n",
      "       'I had a sheltered upbringing', 'My life is very stressful',\n",
      "       'I value my life to be well ordered and predictable',\n",
      "       'Have you ridden a motorcycle?', 'Have you gambled or bet for money?',\n",
      "       'Have you ever been sky-diving?'],\n",
      "      dtype='object')\n",
      "Have you ever bungee-jumped?\n",
      "Have you ever parachuted?\n",
      "Have you ever been sky-diving?\n"
     ]
    }
   ],
   "source": [
    "#Sensation Seeking\n",
    "\n",
    "#remove nan row-wise, per characteristics \n",
    "#then do PCA\n",
    "#need to attach index before drop nan\n",
    "#stack index row \n",
    "sensaSeek = combined.iloc[:,0:20]\n",
    "'''\n",
    "indArr = []\n",
    "for i in range(df.shape[0]):\n",
    "    indArr.append(i)\n",
    "sensaSeek.insert(0,'index',indArr)\n",
    "\n",
    "sensaSeek = sensaSeek.dropna(axis=0,how='any')\n",
    "\n",
    "#separate the index column out\n",
    "indSensa = sensaSeek.index.to_numpy()\n",
    "sensaSeek = sensaSeek.drop('index',axis=1)\n",
    "\n",
    "sensaSeek = sensaSeek.dropna(axis=0,how='any')\n",
    "ssi = sensaSeek.index\n",
    "'''\n",
    "\n",
    "#PCA\n",
    "zscoredData = stats.zscore(sensaSeek)\n",
    "pca = PCA().fit(zscoredData)\n",
    "eigVals = pca.explained_variance_\n",
    "loadings = pca.components_*-1\n",
    "rotatedSensaSeek = pca.fit_transform(zscoredData)*-1\n",
    "\n",
    "#scree plot for sensation seeking\n",
    "numClasses = sensaSeek.shape[1]\n",
    "x = np.linspace(1,numClasses,numClasses)\n",
    "plt.bar(x, eigVals, color='gray')\n",
    "plt.plot([0,numClasses],[1,1],color='orange') # Orange Kaiser criterion line for the fox\n",
    "plt.xlabel('Principal component')\n",
    "plt.ylabel('Eigenvalue')\n",
    "plt.show()\n",
    "\n",
    "# Interpreting the factors \n",
    "sensaSeekQuestions = sensaSeek.columns\n",
    "whichPrincipalComponent = 1 # Select and look at once factor at a time \n",
    "plt.bar(x,loadings[whichPrincipalComponent,:]*-1) # note: eigVecs multiplied by -1\n",
    "plt.xlabel('Question')\n",
    "plt.ylabel('Loading')\n",
    "plt.show() # Show bar plot\n",
    "\n",
    "# Display questions\n",
    "print(sensaSeekQuestions) \n",
    "print(sensaSeekQuestions[2]) \n",
    "print(sensaSeekQuestions[12]) \n",
    "print(sensaSeekQuestions[19]) \n",
    "#seeking the thrilling feelings in the sky/flying?"
   ]
  },
  {
   "cell_type": "markdown",
   "id": "2f381319",
   "metadata": {},
   "source": [
    "The 3 questions with the highest absolute loading values are:\n",
    "Have you ever bungee-jumped?\n",
    "Have you ever parachuted?\n",
    "Have you ever been sky-diving?\n",
    "These questions can be interpreted as ‘seeking the thrilling feelings in the sky/flying’."
   ]
  },
  {
   "cell_type": "code",
   "execution_count": 428,
   "id": "04bb269d",
   "metadata": {},
   "outputs": [
    {
     "data": {
      "image/png": "[encoded data removed]",
      "text/plain": [
       "<Figure size 432x288 with 1 Axes>"
      ]
     },
     "metadata": {
      "needs_background": "light"
     },
     "output_type": "display_data"
    },
    {
     "data": {
      "image/png": "[encoded data removed]",
      "text/plain": [
       "<Figure size 432x288 with 1 Axes>"
      ]
     },
     "metadata": {
      "needs_background": "light"
     },
     "output_type": "display_data"
    },
    {
     "name": "stdout",
     "output_type": "stream",
     "text": [
      "Index(['I have cried during a movie',\n",
      "       'I have trouble following the story of a movie',\n",
      "       'I have trouble remembering the story of a movie a couple of days after seeing it',\n",
      "       'When watching a movie I cheer or shout or talk or curse at the screen',\n",
      "       'When watching a movie I feel like the things on the screen are happening to me',\n",
      "       'As a movie unfolds I start to have problems keeping track of events that happened earlier',\n",
      "       'The emotions on the screen \"rub off\" on me - for instance if something sad is happening I get sad or if something frightening is happening I get scared',\n",
      "       'When watching a movie I get completely immersed in the alternative reality of the film',\n",
      "       'Movies change my position on social economic or political issues',\n",
      "       'When watching movies things get so intense that I have to stop watching'],\n",
      "      dtype='object')\n",
      "\n",
      "I have trouble following the story of a movie\n",
      "I have trouble remembering the story of a movie a couple of days after seeing it\n",
      "As a movie unfolds I start to have problems keeping track of events that happened earlier\n"
     ]
    }
   ],
   "source": [
    "#Movie Experience\n",
    "\n",
    "#remove nan row-wise, per characteristics \n",
    "#then do PCA\n",
    "#need to attach index before drop nan\n",
    "#stack index row \n",
    "'''\n",
    "indArr = []\n",
    "for i in range(df.shape[0]):\n",
    "    indArr.append(i)\n",
    "movieExp.insert(0,'index',indArr)\n",
    "\n",
    "movieExp = movieExp.dropna(axis=0,how='any')\n",
    "\n",
    "#separate the index column out\n",
    "indMovieExp = movieExp.index.to_numpy()\n",
    "movieExp = movieExp.drop('index',axis=1)\n",
    "'''\n",
    "movieExp = combined.iloc[:,20:]\n",
    "\n",
    "#PCA\n",
    "zscoredData = stats.zscore(movieExp)\n",
    "pca = PCA().fit(zscoredData)\n",
    "eigVals = pca.explained_variance_\n",
    "loadings = pca.components_*-1\n",
    "rotatedMovieExp = pca.fit_transform(zscoredData)*-1\n",
    "\n",
    "#scree plot for sensation seeking\n",
    "numClasses = movieExp.shape[1]\n",
    "x = np.linspace(1,numClasses,numClasses)\n",
    "plt.bar(x, eigVals, color='gray')\n",
    "plt.plot([0,numClasses],[1,1],color='orange') # Orange Kaiser criterion line for the fox\n",
    "plt.xlabel('Principal component')\n",
    "plt.ylabel('Eigenvalue')\n",
    "plt.show()\n",
    "\n",
    "# Interpreting the factors \n",
    "movieExpQuestions = movieExp.columns\n",
    "whichPrincipalComponent = 1 # Select and look at once factor at a time \n",
    "plt.bar(x,loadings[whichPrincipalComponent,:]*-1) # note: eigVecs multiplied by -1\n",
    "plt.xlabel('Question')\n",
    "plt.ylabel('Loading')\n",
    "plt.show() # Show bar plot\n",
    "\n",
    "# Display questions\n",
    "print(movieExpQuestions)\n",
    "print()\n",
    "print(movieExpQuestions[1]) \n",
    "print(movieExpQuestions[2]) \n",
    "print(movieExpQuestions[5]) \n",
    "\n",
    "#memory issue"
   ]
  },
  {
   "cell_type": "markdown",
   "id": "f2eb0160",
   "metadata": {},
   "source": [
    "The 3 movie experiences with the highest absolute loading values are:\n",
    "I have trouble following the story of a movie\n",
    "I have trouble remembering the story of a movie a couple of days after seeing it\n",
    "As a movie unfolds I start to have problems keeping track of events that happened earlier\n",
    "These movie experiences can be interpreted as ‘issues with following/memorizing the movies’."
   ]
  },
  {
   "cell_type": "code",
   "execution_count": 450,
   "id": "dbfbd141",
   "metadata": {},
   "outputs": [
    {
     "name": "stdout",
     "output_type": "stream",
     "text": [
      "[[1.         0.01248172]\n",
      " [0.01248172 1.        ]]\n"
     ]
    },
    {
     "data": {
      "image/png": "[encoded data removed]",
      "text/plain": [
       "<Figure size 432x288 with 1 Axes>"
      ]
     },
     "metadata": {
      "needs_background": "light"
     },
     "output_type": "display_data"
    }
   ],
   "source": [
    "#correlation\n",
    "data1 = rotatedSensaSeek[:,0]\n",
    "data2 = rotatedMovieExp[:,0]\n",
    "# Plot data:\n",
    "plt.plot(data1,data2,'o')\n",
    "plt.xlabel('Sensation Seeking')\n",
    "plt.ylabel('Movie Experience')\n",
    "plt.title('r = {:.3f}'.format(r[0,1]))\n",
    "\n",
    "r = np.corrcoef(data1,data2)\n",
    "print(r)"
   ]
  },
  {
   "cell_type": "markdown",
   "id": "77b9664d",
   "metadata": {},
   "source": [
    "The correlation coefficient was 0.125, so there is no linear relationship between sensation seeking factors, specifically ‘seeking the thrilling feelings in the sky/flying’, and movie experience, specifically  ‘issues with following/memorizing the movies’.\n",
    "Plotting the data points using the first principle components for each dataset. We could see that the data points mainly clustered around the center."
   ]
  },
  {
   "cell_type": "markdown",
   "id": "da43af69",
   "metadata": {},
   "source": [
    "### Question 2"
   ]
  },
  {
   "cell_type": "markdown",
   "id": "80d02699",
   "metadata": {},
   "source": [
    "Is there evidence of personality types based on the data of these research participants? If so,\n",
    "characterize these types both quantitatively and narratively."
   ]
  },
  {
   "cell_type": "code",
   "execution_count": 596,
   "id": "679fdcac",
   "metadata": {},
   "outputs": [],
   "source": [
    "#remove nan row-wise, per characteristics \n",
    "#then do PCA\n",
    "#need to attach index before drop nan\n",
    "personalities = personalities.dropna(axis=0,how='any')\n",
    "personaInd = personalities.index\n",
    "\n",
    "zscoredPersona = stats.zscore(personalities)\n",
    "pcaPersona = PCA().fit(zscoredPersona)\n",
    "eigValsPersona = pcaPersona.explained_variance_\n",
    "loadingsPersona = pcaPersona.components_\n",
    "rotatedPersona = pcaPersona.fit_transform(zscoredPersona)"
   ]
  },
  {
   "cell_type": "code",
   "execution_count": 597,
   "id": "b2500747",
   "metadata": {},
   "outputs": [
    {
     "data": {
      "image/png": "[encoded data removed]",
      "text/plain": [
       "<Figure size 432x288 with 1 Axes>"
      ]
     },
     "metadata": {
      "needs_background": "light"
     },
     "output_type": "display_data"
    }
   ],
   "source": [
    "#scree plot for personalities\n",
    "numClassesPersona = personalities.shape[1]\n",
    "x = np.linspace(1,numClassesPersona,numClassesPersona)\n",
    "plt.bar(x, eigValsPersona, color='gray')\n",
    "plt.plot([0,numClassesPersona],[1,1],color='orange') # Orange Kaiser criterion line for the fox\n",
    "plt.xlabel('Principal component')\n",
    "plt.ylabel('Eigenvalue')\n",
    "plt.show()"
   ]
  },
  {
   "cell_type": "code",
   "execution_count": 598,
   "id": "c6760b39",
   "metadata": {},
   "outputs": [
    {
     "name": "stdout",
     "output_type": "stream",
     "text": [
      "Number of factors selected by Elbow criterion: 6\n"
     ]
    }
   ],
   "source": [
    "print('Number of factors selected by Elbow criterion: 6')"
   ]
  },
  {
   "cell_type": "code",
   "execution_count": 599,
   "id": "337f2166",
   "metadata": {},
   "outputs": [
    {
     "data": {
      "image/png": "[encoded data removed]",
      "text/plain": [
       "<Figure size 432x288 with 1 Axes>"
      ]
     },
     "metadata": {
      "needs_background": "light"
     },
     "output_type": "display_data"
    },
    {
     "name": "stdout",
     "output_type": "stream",
     "text": [
      "Worries a lot\n"
     ]
    }
   ],
   "source": [
    "#PC 1\n",
    "personaQuestions = personalities.columns\n",
    "whichPrincipalComponent = 1 # Select and look at once factor at a time \n",
    "plt.bar(x,loadingsPersona[whichPrincipalComponent,:]*-1) # note: eigVecs multiplied by -1\n",
    "plt.xlabel('Question')\n",
    "plt.ylabel('Loading')\n",
    "plt.show() # Show bar plot\n",
    "\n",
    "loadAbs = np.abs(loadingsPersona[whichPrincipalComponent,:])\n",
    "#stack index row \n",
    "indArr = []\n",
    "for i in range(loadAbs.shape[0]):\n",
    "    indArr.append(i)\n",
    "indArr = np.array(indArr,dtype=int)\n",
    "loadAbs = np.stack((indArr,loadAbs),axis=0)\n",
    "loadAbs = np.transpose(loadAbs)\n",
    "loadingsAbs = pd.DataFrame(loadAbs,columns=['index','loadingsAbs'])\n",
    "\n",
    "loadingsAbs = loadingsAbs.sort_values('loadingsAbs', axis=0,ascending=False)\n",
    "#print(loadingsAbs)\n",
    "\n",
    "# Display questions\n",
    "indexes = loadingsAbs.loc[:,loadingsAbs.columns.str.contains('index')] \n",
    "maxInd = int(indexes.iloc[0])\n",
    "print(personaQuestions[maxInd])"
   ]
  },
  {
   "cell_type": "code",
   "execution_count": 600,
   "id": "315c491e",
   "metadata": {},
   "outputs": [
    {
     "data": {
      "image/png": "[encoded data removed]",
      "text/plain": [
       "<Figure size 432x288 with 1 Axes>"
      ]
     },
     "metadata": {
      "needs_background": "light"
     },
     "output_type": "display_data"
    },
    {
     "name": "stdout",
     "output_type": "stream",
     "text": [
      "Tends to be quiet\n"
     ]
    }
   ],
   "source": [
    "#PC 2\n",
    "personaQuestions = personalities.columns\n",
    "whichPrincipalComponent = 2 # Select and look at once factor at a time \n",
    "plt.bar(x,loadingsPersona[whichPrincipalComponent,:]*-1) # note: eigVecs multiplied by -1\n",
    "plt.xlabel('Question')\n",
    "plt.ylabel('Loading')\n",
    "plt.show() # Show bar plot\n",
    "\n",
    "loadAbs = np.abs(loadingsPersona[whichPrincipalComponent,:])\n",
    "#stack index row \n",
    "indArr = []\n",
    "for i in range(loadAbs.shape[0]):\n",
    "    indArr.append(i)\n",
    "indArr = np.array(indArr,dtype=int)\n",
    "loadAbs = np.stack((indArr,loadAbs),axis=0)\n",
    "loadAbs = np.transpose(loadAbs)\n",
    "loadingsAbs = pd.DataFrame(loadAbs,columns=['index','loadingsAbs'])\n",
    "\n",
    "loadingsAbs = loadingsAbs.sort_values('loadingsAbs', axis=0,ascending=False)\n",
    "\n",
    "# Display questions\n",
    "indexes = loadingsAbs.loc[:,loadingsAbs.columns.str.contains('index')] \n",
    "maxInd = int(indexes.iloc[0])\n",
    "print(personaQuestions[maxInd])"
   ]
  },
  {
   "cell_type": "code",
   "execution_count": 601,
   "id": "04cd93e6",
   "metadata": {},
   "outputs": [
    {
     "data": {
      "image/png": "[encoded data removed]",
      "text/plain": [
       "<Figure size 432x288 with 1 Axes>"
      ]
     },
     "metadata": {
      "needs_background": "light"
     },
     "output_type": "display_data"
    },
    {
     "name": "stdout",
     "output_type": "stream",
     "text": [
      "Tends to be disorganized\n"
     ]
    }
   ],
   "source": [
    "#PC 3\n",
    "personaQuestions = personalities.columns\n",
    "whichPrincipalComponent = 3 # Select and look at once factor at a time \n",
    "plt.bar(x,loadingsPersona[whichPrincipalComponent,:]*-1) # note: eigVecs multiplied by -1\n",
    "plt.xlabel('Question')\n",
    "plt.ylabel('Loading')\n",
    "plt.show() # Show bar plot\n",
    "\n",
    "loadAbs = np.abs(loadingsPersona[whichPrincipalComponent,:])\n",
    "#stack index row \n",
    "indArr = []\n",
    "for i in range(loadAbs.shape[0]):\n",
    "    indArr.append(i)\n",
    "indArr = np.array(indArr,dtype=int)\n",
    "loadAbs = np.stack((indArr,loadAbs),axis=0)\n",
    "loadAbs = np.transpose(loadAbs)\n",
    "loadingsAbs = pd.DataFrame(loadAbs,columns=['index','loadingsAbs'])\n",
    "\n",
    "loadingsAbs = loadingsAbs.sort_values('loadingsAbs', axis=0,ascending=False)\n",
    "\n",
    "# Display questions\n",
    "indexes = loadingsAbs.loc[:,loadingsAbs.columns.str.contains('index')] \n",
    "maxInd = int(indexes.iloc[0])\n",
    "print(personaQuestions[maxInd])"
   ]
  },
  {
   "cell_type": "code",
   "execution_count": 602,
   "id": "8370e193",
   "metadata": {},
   "outputs": [
    {
     "data": {
      "image/png": "[encoded data removed]",
      "text/plain": [
       "<Figure size 432x288 with 1 Axes>"
      ]
     },
     "metadata": {
      "needs_background": "light"
     },
     "output_type": "display_data"
    },
    {
     "name": "stdout",
     "output_type": "stream",
     "text": [
      "Can be cold and aloof\n"
     ]
    }
   ],
   "source": [
    "#PC 4\n",
    "personaQuestions = personalities.columns\n",
    "whichPrincipalComponent = 4 # Select and look at once factor at a time \n",
    "plt.bar(x,loadingsPersona[whichPrincipalComponent,:]*-1) # note: eigVecs multiplied by -1\n",
    "plt.xlabel('Question')\n",
    "plt.ylabel('Loading')\n",
    "plt.show() # Show bar plot\n",
    "\n",
    "loadAbs = np.abs(loadingsPersona[whichPrincipalComponent,:])\n",
    "#stack index row \n",
    "indArr = []\n",
    "for i in range(loadAbs.shape[0]):\n",
    "    indArr.append(i)\n",
    "indArr = np.array(indArr,dtype=int)\n",
    "loadAbs = np.stack((indArr,loadAbs),axis=0)\n",
    "loadAbs = np.transpose(loadAbs)\n",
    "loadingsAbs = pd.DataFrame(loadAbs,columns=['index','loadingsAbs'])\n",
    "\n",
    "loadingsAbs = loadingsAbs.sort_values('loadingsAbs', axis=0,ascending=False)\n",
    "\n",
    "# Display questions\n",
    "indexes = loadingsAbs.loc[:,loadingsAbs.columns.str.contains('index')] \n",
    "maxInd = int(indexes.iloc[0])\n",
    "print(personaQuestions[maxInd])"
   ]
  },
  {
   "cell_type": "code",
   "execution_count": 603,
   "id": "19c1efb8",
   "metadata": {},
   "outputs": [
    {
     "data": {
      "image/png": "[encoded data removed]",
      "text/plain": [
       "<Figure size 432x288 with 1 Axes>"
      ]
     },
     "metadata": {
      "needs_background": "light"
     },
     "output_type": "display_data"
    },
    {
     "name": "stdout",
     "output_type": "stream",
     "text": [
      "Has few artistic interests\n"
     ]
    }
   ],
   "source": [
    "#PC 5\n",
    "personaQuestions = personalities.columns\n",
    "whichPrincipalComponent = 5 # Select and look at once factor at a time \n",
    "plt.bar(x,loadingsPersona[whichPrincipalComponent,:]*-1) # note: eigVecs multiplied by -1\n",
    "plt.xlabel('Question')\n",
    "plt.ylabel('Loading')\n",
    "plt.show() # Show bar plot\n",
    "\n",
    "loadAbs = np.abs(loadingsPersona[whichPrincipalComponent,:])\n",
    "#stack index row \n",
    "indArr = []\n",
    "for i in range(loadAbs.shape[0]):\n",
    "    indArr.append(i)\n",
    "indArr = np.array(indArr,dtype=int)\n",
    "loadAbs = np.stack((indArr,loadAbs),axis=0)\n",
    "loadAbs = np.transpose(loadAbs)\n",
    "loadingsAbs = pd.DataFrame(loadAbs,columns=['index','loadingsAbs'])\n",
    "\n",
    "loadingsAbs = loadingsAbs.sort_values('loadingsAbs', axis=0,ascending=False)\n",
    "\n",
    "# Display questions\n",
    "indexes = loadingsAbs.loc[:,loadingsAbs.columns.str.contains('index')] \n",
    "maxInd = int(indexes.iloc[0])\n",
    "print(personaQuestions[maxInd])"
   ]
  },
  {
   "cell_type": "code",
   "execution_count": 604,
   "id": "290b9208",
   "metadata": {},
   "outputs": [
    {
     "data": {
      "image/png": "[encoded data removed]",
      "text/plain": [
       "<Figure size 432x288 with 1 Axes>"
      ]
     },
     "metadata": {
      "needs_background": "light"
     },
     "output_type": "display_data"
    },
    {
     "name": "stdout",
     "output_type": "stream",
     "text": [
      "Has few artistic interests\n"
     ]
    }
   ],
   "source": [
    "#PC 6\n",
    "personaQuestions = personalities.columns\n",
    "whichPrincipalComponent = 6 # Select and look at once factor at a time \n",
    "plt.bar(x,loadingsPersona[whichPrincipalComponent,:]*-1) # note: eigVecs multiplied by -1\n",
    "plt.xlabel('Question')\n",
    "plt.ylabel('Loading')\n",
    "plt.show() # Show bar plot\n",
    "\n",
    "loadAbs = np.abs(loadingsPersona[whichPrincipalComponent,:])\n",
    "#stack index row \n",
    "indArr = []\n",
    "for i in range(loadAbs.shape[0]):\n",
    "    indArr.append(i)\n",
    "indArr = np.array(indArr,dtype=int)\n",
    "loadAbs = np.stack((indArr,loadAbs),axis=0)\n",
    "loadAbs = np.transpose(loadAbs)\n",
    "loadingsAbs = pd.DataFrame(loadAbs,columns=['index','loadingsAbs'])\n",
    "\n",
    "loadingsAbs = loadingsAbs.sort_values('loadingsAbs', axis=0,ascending=False)\n",
    "\n",
    "# Display questions\n",
    "indexes = loadingsAbs.loc[:,loadingsAbs.columns.str.contains('index')] \n",
    "maxInd = int(indexes.iloc[0])\n",
    "print(personaQuestions[maxInd])"
   ]
  },
  {
   "cell_type": "code",
   "execution_count": 605,
   "id": "c320a0b8",
   "metadata": {
    "scrolled": true
   },
   "outputs": [
    {
     "data": {
      "image/png": "[encoded data removed]",
      "text/plain": [
       "<Figure size 432x288 with 1 Axes>"
      ]
     },
     "metadata": {
      "needs_background": "light"
     },
     "output_type": "display_data"
    }
   ],
   "source": [
    "#Clustering\n",
    "x = np.column_stack((rotatedPersona[:,0],rotatedPersona[:,1],rotatedPersona[:,2],rotatedPersona[:,3],rotatedPersona[:,4],rotatedPersona[:,5]))\n",
    "# Silhouette: How similar to points in cluster vs. others, arbitrariness\n",
    "\n",
    "# Remember: each data point gets its own silhouette coefficient ranging \n",
    "# from 0 (arbitrary classification) to 1 (ideal classification).\n",
    "\n",
    "# Init:\n",
    "numClusters = 9 # how many clusters are we looping over? (from 2 to 10)\n",
    "Q = np.empty([numClusters,1])*np.NaN # init container to store sums\n",
    "\n",
    "# Compute kMeans:\n",
    "for ii in range(2, 11): # Loop through each cluster (from 2 to 10!)\n",
    "    kMeans = KMeans(n_clusters = int(ii)).fit(x) # compute kmeans using scikit\n",
    "    cId = kMeans.labels_ # vector of cluster IDs that the row belongs to\n",
    "    cCoords = kMeans.cluster_centers_ # coordinate location for center of each cluster\n",
    "    s = silhouette_samples(x,cId) # compute the mean silhouette coefficient of all samples\n",
    "    Q[ii-2] = sum(s) # take the sum\n",
    "    \n",
    "# Plot this to make it clearer what is going on\n",
    "plt.plot(np.linspace(2,10,9),Q)\n",
    "plt.xlabel('Number of clusters')\n",
    "plt.ylabel('Sum of silhouette scores')\n",
    "plt.show()\n",
    "\n",
    "# kMeans gives you the center coordinates of the clusters, assuming a number\n",
    "# of clusters. Silhouette gives you how many are most unamigously described\n",
    "# by the clusters. Most likely \"real\" number: Where the sum of the\n",
    "# silhouette scores peaks. In reality, they are complementary. Use together\n",
    "\n",
    "# Recompute kMeans:\n",
    "numClusters = 2\n",
    "kMeans = KMeans(n_clusters = numClusters).fit(x) \n",
    "cId = kMeans.labels_ \n",
    "cCoords = kMeans.cluster_centers_"
   ]
  },
  {
   "cell_type": "code",
   "execution_count": 606,
   "id": "d2f24385",
   "metadata": {},
   "outputs": [
    {
     "data": {
      "text/plain": [
       "array([[-2.27720892e+00,  1.41366399e-01,  7.09973219e-02,\n",
       "        -7.02251337e-02, -8.14114456e-02,  1.95199439e-03],\n",
       "       [ 1.86317093e+00, -1.15663417e-01, -5.80887179e-02,\n",
       "         5.74569276e-02,  6.66093646e-02, -1.59708632e-03]])"
      ]
     },
     "execution_count": 606,
     "metadata": {},
     "output_type": "execute_result"
    }
   ],
   "source": [
    "cCoords"
   ]
  },
  {
   "cell_type": "markdown",
   "id": "d3d8ee8a",
   "metadata": {},
   "source": [
    "Number of factors selected by Elbow criterion: 6 <br>\n",
    "List of personalities in the order of principle components:\n",
    "1. Worries a lot\n",
    "2. Tends to be quiet\n",
    "3. Tends to be disorganized\n",
    "4. Can be cold and aloof\n",
    "5. Has few artistic interests\n",
    "6. Has few artistic interests\n",
    "<br>\n",
    "\n",
    "Since the 5th and 6th principle components are representative of the same question, I chose to only used 5 principle components in this case\n",
    "\n",
    "After doing unsupervised machine learning method of clustering, I found 2 clusters: <br>\n",
    "Cluster 1: Sometimes worry, a bit loud, not disorganized, can be cold and aloof, has few characteristic interest <br>\n",
    "Cluster 2: Usually do not worry a lot, a bit quiet, tends to be disorganized, usually not cold and aloof, has a lot of artistic interests"
   ]
  },
  {
   "cell_type": "markdown",
   "id": "671e10bd",
   "metadata": {},
   "source": [
    "### Question 3"
   ]
  },
  {
   "cell_type": "markdown",
   "id": "b5bb7d39",
   "metadata": {},
   "source": [
    "Are movies that are more popular rated higher than movies that are less popular?"
   ]
  },
  {
   "cell_type": "code",
   "execution_count": 516,
   "id": "725eff45",
   "metadata": {},
   "outputs": [
    {
     "name": "stdout",
     "output_type": "stream",
     "text": [
      "Django Unchained (2012)                           453\n",
      "Alien (1979)                                      289\n",
      "Indiana Jones and the Last Crusade (1989)         463\n",
      "Fargo (1996)                                      254\n",
      "Black Swan (2010)                                 588\n",
      "                                                 ... \n",
      "X-Men 2 (2003)                                    448\n",
      "The Mask (1994)                                   398\n",
      "Jaws (1975)                                       496\n",
      "Harry Potter and the Chamber of Secrets (2002)    846\n",
      "Anaconda (1997)                                   198\n",
      "Length: 200, dtype: int64\n",
      "\n",
      "The Life of David Gale (2003)         76\n",
      "Wing Commander (1999)                 71\n",
      "Snatch (2000)                        128\n",
      "Rambo: First Blood Part II (1985)    182\n",
      "Let the Right One In (2008)          137\n",
      "                                    ... \n",
      "The Usual Suspects (1995)            193\n",
      "Patton (1970)                         61\n",
      "Twister (1996)                       174\n",
      "MacArthur (1977)                      61\n",
      "Look Who's Talking (1989)            108\n",
      "Length: 200, dtype: int64\n"
     ]
    }
   ],
   "source": [
    "numOfRatings = movieRatings.count()\n",
    "medianNumOfRating = numOfRatings.median()\n",
    "\n",
    "popularMovies = numOfRatings.loc[(numOfRatings > medianNumOfRating)]\n",
    "unpopularMovies = numOfRatings.loc[(numOfRatings < medianNumOfRating)]\n",
    "print(popularMovies)\n",
    "print()\n",
    "print(unpopularMovies)"
   ]
  },
  {
   "cell_type": "code",
   "execution_count": 517,
   "id": "2c8dfc24",
   "metadata": {},
   "outputs": [
    {
     "name": "stdout",
     "output_type": "stream",
     "text": [
      "9.929258851707232e-35\n"
     ]
    }
   ],
   "source": [
    "popularMoviesName = popularMovies.axes[0].tolist()\n",
    "popularMoviesList = movieRatings.loc[:,(popularMoviesName)]\n",
    "medPop = popularMoviesList.median(axis=0)\n",
    "\n",
    "unpopularMoviesName = unpopularMovies.axes[0].tolist()\n",
    "unpopularMoviesList = movieRatings.loc[:,(unpopularMoviesName)]\n",
    "medUnpop = unpopularMoviesList.median(axis=0)\n",
    "\n",
    "u,p = stats.mannwhitneyu(medPop,medUnpop)\n",
    "print(p)"
   ]
  },
  {
   "cell_type": "code",
   "execution_count": 520,
   "id": "a1155a62",
   "metadata": {},
   "outputs": [
    {
     "data": {
      "image/png": "[encoded data removed]",
      "text/plain": [
       "<Figure size 432x288 with 1 Axes>"
      ]
     },
     "metadata": {
      "needs_background": "light"
     },
     "output_type": "display_data"
    }
   ],
   "source": [
    "# Plot data:\n",
    "plt.plot(medUnpop.values,'o',color=\"blue\")\n",
    "plt.plot(medPop.values,'o',color=\"red\")\n",
    "plt.xlabel('Popular(red) or Unpopular(blue) movies')\n",
    "plt.ylabel('Median Ratings')\n",
    "plt.title('p-value = {:.3f}'.format(p))\n",
    "plt.show()"
   ]
  },
  {
   "cell_type": "markdown",
   "id": "3f413d54",
   "metadata": {},
   "source": [
    "The popularity of a movie is how many ratings it has received \n",
    "\n",
    "I got the number count of ratings for every movies and the median of this list, then divide them into popular movies (more than median rating count) and unpopular movies (less than median rating count) <br>\n",
    "Since movie ratings cannot be reduced to mean because of the psychological value behind each rating, I took the median of each movie, then performed Mann-Whitney U test on the list of median of popular movies and list of median of unpopular movies.<br>\n",
    "P-value (rounded to 3 decimal places): 0.000 < 0.05 <br>\n",
    "Hence, we reject the null hypothesis. <br>\n",
    "Conclusion: movies that are more popular are rated higher than movies that are less popular \n"
   ]
  },
  {
   "cell_type": "markdown",
   "id": "1398d044",
   "metadata": {},
   "source": [
    "### Question 4"
   ]
  },
  {
   "cell_type": "markdown",
   "id": "0c145555",
   "metadata": {},
   "source": [
    "Is enjoyment of ‘Shrek (2001)’ gendered, i.e. do male and female viewers rate it differently?"
   ]
  },
  {
   "cell_type": "code",
   "execution_count": 521,
   "id": "4d0517b6",
   "metadata": {},
   "outputs": [],
   "source": [
    "shrek = pd.DataFrame(df['Shrek (2001)'])\n",
    "combined = pd.concat([shrek, gender], axis=1)\n",
    "combined = combined.dropna(axis=0,how='any')"
   ]
  },
  {
   "cell_type": "code",
   "execution_count": 522,
   "id": "6535398f",
   "metadata": {},
   "outputs": [
    {
     "name": "stdout",
     "output_type": "stream",
     "text": [
      "0.025268312962779503\n"
     ]
    }
   ],
   "source": [
    "femaleShrek = combined[combined['Gender identity (1 = female; 2 = male; 3 = self-described)'] == 1]\n",
    "maleShrek = combined[combined['Gender identity (1 = female; 2 = male; 3 = self-described)'] == 2]\n",
    "\n",
    "u,p = stats.mannwhitneyu(femaleShrek['Shrek (2001)'],maleShrek['Shrek (2001)'])\n",
    "print(p)"
   ]
  },
  {
   "cell_type": "code",
   "execution_count": 523,
   "id": "6b7f851e",
   "metadata": {},
   "outputs": [
    {
     "data": {
      "image/png": "[encoded data removed]",
      "text/plain": [
       "<Figure size 432x288 with 1 Axes>"
      ]
     },
     "metadata": {
      "needs_background": "light"
     },
     "output_type": "display_data"
    }
   ],
   "source": [
    "# Plot data:\n",
    "plt.plot(femaleShrek['Shrek (2001)'].values,'o',color=\"blue\")\n",
    "plt.plot(maleShrek['Shrek (2001)'].values,'o',color=\"red\")\n",
    "plt.xlabel('Ratings for Shrek of male(red) or female (blue)')\n",
    "plt.ylabel('Ratings')\n",
    "plt.title('p-value = {:.3f}'.format(p))\n",
    "plt.show()"
   ]
  },
  {
   "cell_type": "markdown",
   "id": "7be0a767",
   "metadata": {},
   "source": [
    "I combined the two columns of ratings for ‘Shrek (2001)’ and the Gender Identity column, then dropped nan row-wise and separated the rating data into two datasets for male and female. Since movie ratings cannot be reduced to mean because of the psychological value behind each rating, and there are two independent datasets, I performed the Mann-Whitney U test. <br>\n",
    "P-value (rounded to 3 decimal places) = 0.025 < 0.05 <br>\n",
    "Hence, we reject the null hypothesis.<br>\n",
    "Conclusion: enjoyment of ‘Shrek (2001)’ is gendered."
   ]
  },
  {
   "cell_type": "markdown",
   "id": "8a2669cf",
   "metadata": {},
   "source": [
    "### Question 5"
   ]
  },
  {
   "cell_type": "markdown",
   "id": "22763b7e",
   "metadata": {},
   "source": [
    "Do people who are only children enjoy ‘The Lion King (1994)’ more than people with siblings?"
   ]
  },
  {
   "cell_type": "code",
   "execution_count": 530,
   "id": "57b2dcd0",
   "metadata": {},
   "outputs": [
    {
     "data": {
      "text/html": [
       "<div>\n",
       "<style scoped>\n",
       "    .dataframe tbody tr th:only-of-type {\n",
       "        vertical-align: middle;\n",
       "    }\n",
       "\n",
       "    .dataframe tbody tr th {\n",
       "        vertical-align: top;\n",
       "    }\n",
       "\n",
       "    .dataframe thead th {\n",
       "        text-align: right;\n",
       "    }\n",
       "</style>\n",
       "<table border=\"1\" class=\"dataframe\">\n",
       "  <thead>\n",
       "    <tr style=\"text-align: right;\">\n",
       "      <th></th>\n",
       "      <th>The Lion King (1994)</th>\n",
       "      <th>Are you an only child? (1: Yes; 0: No; -1: Did not respond)</th>\n",
       "    </tr>\n",
       "  </thead>\n",
       "  <tbody>\n",
       "    <tr>\n",
       "      <th>0</th>\n",
       "      <td>4.0</td>\n",
       "      <td>0</td>\n",
       "    </tr>\n",
       "    <tr>\n",
       "      <th>2</th>\n",
       "      <td>4.0</td>\n",
       "      <td>1</td>\n",
       "    </tr>\n",
       "    <tr>\n",
       "      <th>3</th>\n",
       "      <td>3.0</td>\n",
       "      <td>0</td>\n",
       "    </tr>\n",
       "    <tr>\n",
       "      <th>4</th>\n",
       "      <td>4.0</td>\n",
       "      <td>1</td>\n",
       "    </tr>\n",
       "    <tr>\n",
       "      <th>5</th>\n",
       "      <td>4.0</td>\n",
       "      <td>1</td>\n",
       "    </tr>\n",
       "    <tr>\n",
       "      <th>...</th>\n",
       "      <td>...</td>\n",
       "      <td>...</td>\n",
       "    </tr>\n",
       "    <tr>\n",
       "      <th>1090</th>\n",
       "      <td>3.5</td>\n",
       "      <td>0</td>\n",
       "    </tr>\n",
       "    <tr>\n",
       "      <th>1091</th>\n",
       "      <td>4.0</td>\n",
       "      <td>0</td>\n",
       "    </tr>\n",
       "    <tr>\n",
       "      <th>1092</th>\n",
       "      <td>3.5</td>\n",
       "      <td>0</td>\n",
       "    </tr>\n",
       "    <tr>\n",
       "      <th>1093</th>\n",
       "      <td>3.5</td>\n",
       "      <td>0</td>\n",
       "    </tr>\n",
       "    <tr>\n",
       "      <th>1096</th>\n",
       "      <td>4.0</td>\n",
       "      <td>0</td>\n",
       "    </tr>\n",
       "  </tbody>\n",
       "</table>\n",
       "<p>937 rows × 2 columns</p>\n",
       "</div>"
      ],
      "text/plain": [
       "      The Lion King (1994)  \\\n",
       "0                      4.0   \n",
       "2                      4.0   \n",
       "3                      3.0   \n",
       "4                      4.0   \n",
       "5                      4.0   \n",
       "...                    ...   \n",
       "1090                   3.5   \n",
       "1091                   4.0   \n",
       "1092                   3.5   \n",
       "1093                   3.5   \n",
       "1096                   4.0   \n",
       "\n",
       "      Are you an only child? (1: Yes; 0: No; -1: Did not respond)  \n",
       "0                                                     0            \n",
       "2                                                     1            \n",
       "3                                                     0            \n",
       "4                                                     1            \n",
       "5                                                     1            \n",
       "...                                                 ...            \n",
       "1090                                                  0            \n",
       "1091                                                  0            \n",
       "1092                                                  0            \n",
       "1093                                                  0            \n",
       "1096                                                  0            \n",
       "\n",
       "[937 rows x 2 columns]"
      ]
     },
     "execution_count": 530,
     "metadata": {},
     "output_type": "execute_result"
    }
   ],
   "source": [
    "lion = pd.DataFrame(df['The Lion King (1994)'])\n",
    "combined = pd.concat([lion, onlyChild], axis=1)\n",
    "combined = combined.dropna(axis=0,how='any')\n",
    "combined"
   ]
  },
  {
   "cell_type": "code",
   "execution_count": 531,
   "id": "f9d621db",
   "metadata": {},
   "outputs": [
    {
     "name": "stdout",
     "output_type": "stream",
     "text": [
      "0.021599364978414245\n"
     ]
    }
   ],
   "source": [
    "lionOnlyChild = combined[combined['Are you an only child? (1: Yes; 0: No; -1: Did not respond)'] == 1]\n",
    "lionSiblings = combined[combined['Are you an only child? (1: Yes; 0: No; -1: Did not respond)'] == 0]\n",
    "\n",
    "u,p = stats.mannwhitneyu(lionOnlyChild['The Lion King (1994)'],lionSiblings['The Lion King (1994)'])\n",
    "print(p)"
   ]
  },
  {
   "cell_type": "code",
   "execution_count": 538,
   "id": "0145c161",
   "metadata": {},
   "outputs": [
    {
     "data": {
      "image/png": "[encoded data removed]",
      "text/plain": [
       "<Figure size 432x288 with 1 Axes>"
      ]
     },
     "metadata": {
      "needs_background": "light"
     },
     "output_type": "display_data"
    }
   ],
   "source": [
    "# Plot data:\n",
    "plt.plot(lionSiblings['The Lion King (1994)'].values,'o',color=\"red\")\n",
    "plt.plot(lionOnlyChild['The Lion King (1994)'].values,'*',color=\"blue\")\n",
    "plt.xlabel('Ratings for The Lion King of only children (blue) or people with siblings (red)')\n",
    "plt.ylabel('Ratings')\n",
    "plt.title('p-value = {:.3f}'.format(p))\n",
    "plt.show()"
   ]
  },
  {
   "cell_type": "markdown",
   "id": "5570528a",
   "metadata": {},
   "source": [
    "I combined the two columns of ratings for ‘The Lion King (1994)’ and the Only child column, then dropped nan row-wise and separated the rating data into two dataset for participants who are only children and participants who have siblings. Since movie ratings cannot be reduced to mean because of the psychological value behind each rating, and there are two independent datasets, I performed the Mann-Whitney U test. <br>\n",
    "P-value  (rounded to 3 decimal places) = 0.022 < 0.05 <br>\n",
    "Conclusion: People who are only children enjoy ‘The Lion King (1994)’ more than people with siblings"
   ]
  },
  {
   "cell_type": "markdown",
   "id": "fc6fc447",
   "metadata": {},
   "source": [
    "### Question 6"
   ]
  },
  {
   "cell_type": "markdown",
   "id": "e65ba410",
   "metadata": {},
   "source": [
    "Do people who like to watch movies socially enjoy ‘The Wolf of Wall Street (2013)’ more than\n",
    "those who prefer to watch them alone?\n"
   ]
  },
  {
   "cell_type": "code",
   "execution_count": 539,
   "id": "fd6bcd43",
   "metadata": {},
   "outputs": [
    {
     "data": {
      "text/html": [
       "<div>\n",
       "<style scoped>\n",
       "    .dataframe tbody tr th:only-of-type {\n",
       "        vertical-align: middle;\n",
       "    }\n",
       "\n",
       "    .dataframe tbody tr th {\n",
       "        vertical-align: top;\n",
       "    }\n",
       "\n",
       "    .dataframe thead th {\n",
       "        text-align: right;\n",
       "    }\n",
       "</style>\n",
       "<table border=\"1\" class=\"dataframe\">\n",
       "  <thead>\n",
       "    <tr style=\"text-align: right;\">\n",
       "      <th></th>\n",
       "      <th>The Wolf of Wall Street (2013)</th>\n",
       "      <th>Movies are best enjoyed alone (1: Yes; 0: No; -1: Did not respond)</th>\n",
       "    </tr>\n",
       "  </thead>\n",
       "  <tbody>\n",
       "    <tr>\n",
       "      <th>3</th>\n",
       "      <td>4.0</td>\n",
       "      <td>1</td>\n",
       "    </tr>\n",
       "    <tr>\n",
       "      <th>4</th>\n",
       "      <td>3.0</td>\n",
       "      <td>1</td>\n",
       "    </tr>\n",
       "    <tr>\n",
       "      <th>5</th>\n",
       "      <td>2.5</td>\n",
       "      <td>0</td>\n",
       "    </tr>\n",
       "    <tr>\n",
       "      <th>6</th>\n",
       "      <td>1.0</td>\n",
       "      <td>0</td>\n",
       "    </tr>\n",
       "    <tr>\n",
       "      <th>7</th>\n",
       "      <td>3.5</td>\n",
       "      <td>1</td>\n",
       "    </tr>\n",
       "    <tr>\n",
       "      <th>...</th>\n",
       "      <td>...</td>\n",
       "      <td>...</td>\n",
       "    </tr>\n",
       "    <tr>\n",
       "      <th>1087</th>\n",
       "      <td>4.0</td>\n",
       "      <td>0</td>\n",
       "    </tr>\n",
       "    <tr>\n",
       "      <th>1090</th>\n",
       "      <td>4.0</td>\n",
       "      <td>1</td>\n",
       "    </tr>\n",
       "    <tr>\n",
       "      <th>1093</th>\n",
       "      <td>3.5</td>\n",
       "      <td>0</td>\n",
       "    </tr>\n",
       "    <tr>\n",
       "      <th>1094</th>\n",
       "      <td>2.0</td>\n",
       "      <td>0</td>\n",
       "    </tr>\n",
       "    <tr>\n",
       "      <th>1096</th>\n",
       "      <td>4.0</td>\n",
       "      <td>1</td>\n",
       "    </tr>\n",
       "  </tbody>\n",
       "</table>\n",
       "<p>667 rows × 2 columns</p>\n",
       "</div>"
      ],
      "text/plain": [
       "      The Wolf of Wall Street (2013)  \\\n",
       "3                                4.0   \n",
       "4                                3.0   \n",
       "5                                2.5   \n",
       "6                                1.0   \n",
       "7                                3.5   \n",
       "...                              ...   \n",
       "1087                             4.0   \n",
       "1090                             4.0   \n",
       "1093                             3.5   \n",
       "1094                             2.0   \n",
       "1096                             4.0   \n",
       "\n",
       "      Movies are best enjoyed alone (1: Yes; 0: No; -1: Did not respond)  \n",
       "3                                                     1                   \n",
       "4                                                     1                   \n",
       "5                                                     0                   \n",
       "6                                                     0                   \n",
       "7                                                     1                   \n",
       "...                                                 ...                   \n",
       "1087                                                  0                   \n",
       "1090                                                  1                   \n",
       "1093                                                  0                   \n",
       "1094                                                  0                   \n",
       "1096                                                  1                   \n",
       "\n",
       "[667 rows x 2 columns]"
      ]
     },
     "execution_count": 539,
     "metadata": {},
     "output_type": "execute_result"
    }
   ],
   "source": [
    "wolf = pd.DataFrame(df['The Wolf of Wall Street (2013)'])\n",
    "combined = pd.concat([wolf, socialViewPref], axis=1)\n",
    "combined = combined.dropna(axis=0,how='any')\n",
    "combined"
   ]
  },
  {
   "cell_type": "code",
   "execution_count": 540,
   "id": "e5076382",
   "metadata": {},
   "outputs": [
    {
     "name": "stdout",
     "output_type": "stream",
     "text": [
      "0.05638214666114465\n"
     ]
    },
    {
     "data": {
      "image/png": "[encoded data removed]",
      "text/plain": [
       "<Figure size 432x288 with 1 Axes>"
      ]
     },
     "metadata": {
      "needs_background": "light"
     },
     "output_type": "display_data"
    }
   ],
   "source": [
    "wolfAlone = combined[combined['Movies are best enjoyed alone (1: Yes; 0: No; -1: Did not respond)'] == 1]\n",
    "wolfSocial = combined[combined['Movies are best enjoyed alone (1: Yes; 0: No; -1: Did not respond)'] == 0]\n",
    "\n",
    "u,p = stats.mannwhitneyu(wolfAlone['The Wolf of Wall Street (2013)'],wolfSocial['The Wolf of Wall Street (2013)'])\n",
    "print(p)\n",
    "\n",
    "# Plot data:\n",
    "plt.plot(wolfAlone['The Wolf of Wall Street (2013)'].values,'o',color=\"red\")\n",
    "plt.plot(wolfSocial['The Wolf of Wall Street (2013)'].values,'*',color=\"blue\")\n",
    "plt.xlabel('Ratings for The Wolf of Wall Street of people who enjoy watching movie alone (red) and people don\\'t (blue)')\n",
    "plt.ylabel('Ratings')\n",
    "plt.title('p-value = {:.3f}'.format(p))\n",
    "plt.show()"
   ]
  },
  {
   "cell_type": "markdown",
   "id": "e4280f92",
   "metadata": {},
   "source": [
    "I combined the two columns of ratings for ‘The Wolf of Wall Street (2013)’ and the Social viewing preference column, then dropped nan row-wise and separated the rating data into two dataset for participants who think movies are best enjoyed alone and participants who do not think movies are best enjoyed alone (i.e. they enjoy watching with other people). Since movie ratings cannot be reduced to mean because of the psychological value behind each rating, and there are two independent datasets, I performed the Mann-Whitney U test. <br>\n",
    "P-value  (rounded to 3 decimal places)= 0.056 > 0.05 <br>\n",
    "Conclusion: We fail to reject the null hypothesis. People who enjoy watching movies alone enjoy watching ‘The Wolf of Wall Street (2013)’ just as people who enjoy watching movies socially.\n"
   ]
  },
  {
   "cell_type": "markdown",
   "id": "13290e9d",
   "metadata": {},
   "source": [
    "### Question 7"
   ]
  },
  {
   "cell_type": "markdown",
   "id": "8cc9b3cc",
   "metadata": {},
   "source": [
    "There are ratings on movies from several franchises ([‘Star Wars’, ‘Harry Potter’, ‘The Matrix’,\n",
    "‘Indiana Jones’, ‘Jurassic Park’, ‘Pirates of the Caribbean’, ‘Toy Story’, ‘Batman’]) in this\n",
    "dataset. How many of these are of inconsistent quality, as experienced by viewers?"
   ]
  },
  {
   "cell_type": "code",
   "execution_count": 576,
   "id": "18842e6e",
   "metadata": {},
   "outputs": [
    {
     "name": "stdout",
     "output_type": "stream",
     "text": [
      "6.940162236984522e-40\n",
      "Inconsistent\n"
     ]
    }
   ],
   "source": [
    "count = 0\n",
    "\n",
    "# Star Wars\n",
    "title = 'Star Wars' \n",
    "movie = df.loc[:,df.columns.str.contains(title)]\n",
    "movie = movie.dropna(axis=0,how='any')\n",
    "movie\n",
    "\n",
    "h,p = stats.kruskal(movie['Star Wars: Episode IV - A New Hope (1977)'],movie['Star Wars: Episode II - Attack of the Clones (2002)'],movie['Star Wars: Episode V - The Empire Strikes Back (1980)'],movie['Star Wars: Episode 1 - The Phantom Menace (1999)'],movie['Star Wars: Episode VII - The Force Awakens (2015)'],movie['Star Wars: Episode VI - The Return of the Jedi (1983)'])\n",
    "print(p)\n",
    "\n",
    "if p < 0.05:\n",
    "    print('Inconsistent')\n",
    "    count +=1\n",
    "else:\n",
    "    print('Consistent')"
   ]
  },
  {
   "cell_type": "code",
   "execution_count": 577,
   "id": "abb1bcd6",
   "metadata": {},
   "outputs": [
    {
     "name": "stdout",
     "output_type": "stream",
     "text": [
      "0.11790622831256074\n",
      "Consistent\n"
     ]
    }
   ],
   "source": [
    "# Harry Potter\n",
    "title = 'Harry Potter' \n",
    "movie = df.loc[:,df.columns.str.contains(title)]\n",
    "movie = movie.dropna(axis=0,how='any')\n",
    "movie\n",
    "\n",
    "h,p = stats.kruskal(movie['Harry Potter and the Sorcerer\\'s Stone (2001)'],movie['Harry Potter and the Deathly Hallows: Part 2 (2011)'],movie['Harry Potter and the Goblet of Fire (2005)'],movie['Harry Potter and the Chamber of Secrets (2002)'])\n",
    "print(p)\n",
    "\n",
    "if p < 0.05:\n",
    "    print('Inconsistent')\n",
    "    count +=1\n",
    "else:\n",
    "    print('Consistent')"
   ]
  },
  {
   "cell_type": "code",
   "execution_count": 578,
   "id": "3797d7f1",
   "metadata": {},
   "outputs": [
    {
     "name": "stdout",
     "output_type": "stream",
     "text": [
      "1.7537323830838066e-09\n",
      "Inconsistent\n"
     ]
    }
   ],
   "source": [
    "# The Matrix\n",
    "title = 'Matrix' \n",
    "movie = df.loc[:,df.columns.str.contains(title)]\n",
    "movie = movie.dropna(axis=0,how='any')\n",
    "movie\n",
    "\n",
    "h,p = stats.kruskal(movie['The Matrix Revolutions (2003)'],movie['The Matrix Reloaded (2003)'],movie['The Matrix (1999)'])\n",
    "print(p)\n",
    "\n",
    "if p < 0.05:\n",
    "    print('Inconsistent')\n",
    "    count +=1\n",
    "else:\n",
    "    print('Consistent')"
   ]
  },
  {
   "cell_type": "code",
   "execution_count": 579,
   "id": "081f181e",
   "metadata": {},
   "outputs": [
    {
     "name": "stdout",
     "output_type": "stream",
     "text": [
      "1.020118354785894e-11\n",
      "Inconsistent\n"
     ]
    }
   ],
   "source": [
    "# Indiana Jones\n",
    "title = 'Indiana Jones' \n",
    "movie = df.loc[:,df.columns.str.contains(title)]\n",
    "movie = movie.dropna(axis=0,how='any')\n",
    "movie\n",
    "\n",
    "franchiseTitles = movie.columns\n",
    "\n",
    "h,p = stats.kruskal(movie[franchiseTitles[0]],movie[franchiseTitles[1]],movie[franchiseTitles[2]],movie[franchiseTitles[3]])\n",
    "print(p)\n",
    "\n",
    "if p < 0.05:\n",
    "    print('Inconsistent')\n",
    "    count +=1\n",
    "else:\n",
    "    print('Consistent')"
   ]
  },
  {
   "cell_type": "code",
   "execution_count": 580,
   "id": "4ac36f60",
   "metadata": {},
   "outputs": [
    {
     "name": "stdout",
     "output_type": "stream",
     "text": [
      "1.8492328391686058e-11\n",
      "Inconsistent\n"
     ]
    }
   ],
   "source": [
    "# Jurassic Park\n",
    "title = 'Jurassic Park' \n",
    "movie = df.loc[:,df.columns.str.contains(title)]\n",
    "movie = movie.dropna(axis=0,how='any')\n",
    "movie\n",
    "\n",
    "franchiseTitles = movie.columns\n",
    "\n",
    "h,p = stats.kruskal(movie[franchiseTitles[0]],movie[franchiseTitles[1]],movie[franchiseTitles[2]])\n",
    "print(p)\n",
    "\n",
    "if p < 0.05:\n",
    "    print('Inconsistent')\n",
    "    count +=1\n",
    "else:\n",
    "    print('Consistent')"
   ]
  },
  {
   "cell_type": "code",
   "execution_count": 581,
   "id": "094faec4",
   "metadata": {},
   "outputs": [
    {
     "name": "stdout",
     "output_type": "stream",
     "text": [
      "0.035792727694248905\n",
      "Inconsistent\n"
     ]
    }
   ],
   "source": [
    "# Pirates of the Caribbean\n",
    "title = 'Pirates of the Caribbean' \n",
    "movie = df.loc[:,df.columns.str.contains(title)]\n",
    "movie = movie.dropna(axis=0,how='any')\n",
    "movie\n",
    "\n",
    "franchiseTitles = movie.columns\n",
    "\n",
    "h,p = stats.kruskal(movie[franchiseTitles[0]],movie[franchiseTitles[1]],movie[franchiseTitles[2]])\n",
    "print(p)\n",
    "\n",
    "if p < 0.05:\n",
    "    print('Inconsistent')\n",
    "    count +=1\n",
    "else:\n",
    "    print('Consistent')"
   ]
  },
  {
   "cell_type": "code",
   "execution_count": 582,
   "id": "d670f89e",
   "metadata": {},
   "outputs": [
    {
     "name": "stdout",
     "output_type": "stream",
     "text": [
      "7.902234665149812e-06\n",
      "Inconsistent\n"
     ]
    }
   ],
   "source": [
    "# Toy Story\n",
    "title = 'Toy Story' \n",
    "movie = df.loc[:,df.columns.str.contains(title)]\n",
    "movie = movie.dropna(axis=0,how='any')\n",
    "movie\n",
    "\n",
    "franchiseTitles = movie.columns\n",
    "\n",
    "h,p = stats.kruskal(movie[franchiseTitles[0]],movie[franchiseTitles[1]],movie[franchiseTitles[2]])\n",
    "print(p)\n",
    "\n",
    "if p < 0.05:\n",
    "    print('Inconsistent')\n",
    "    count +=1\n",
    "else:\n",
    "    print('Consistent')"
   ]
  },
  {
   "cell_type": "code",
   "execution_count": 583,
   "id": "32732c23",
   "metadata": {},
   "outputs": [
    {
     "name": "stdout",
     "output_type": "stream",
     "text": [
      "4.1380499020034183e-19\n",
      "Inconsistent\n"
     ]
    }
   ],
   "source": [
    "# Batman\n",
    "title = 'Batman' \n",
    "movie = df.loc[:,df.columns.str.contains(title)]\n",
    "movie = movie.dropna(axis=0,how='any')\n",
    "movie\n",
    "\n",
    "\n",
    "franchiseTitles = movie.columns\n",
    "\n",
    "h,p = stats.kruskal(movie[franchiseTitles[0]],movie[franchiseTitles[1]],movie[franchiseTitles[2]])\n",
    "print(p)\n",
    "\n",
    "if p < 0.05:\n",
    "    print('Inconsistent')\n",
    "    count +=1\n",
    "else:\n",
    "    print('Consistent')"
   ]
  },
  {
   "cell_type": "code",
   "execution_count": 584,
   "id": "0e0836ec",
   "metadata": {},
   "outputs": [
    {
     "name": "stdout",
     "output_type": "stream",
     "text": [
      "7\n"
     ]
    }
   ],
   "source": [
    "print(count)"
   ]
  },
  {
   "cell_type": "markdown",
   "id": "98322987",
   "metadata": {},
   "source": [
    "For each of the 8 franchises [‘Star Wars’, ‘Harry Potter’, ‘The Matrix’, ‘Indiana Jones’, ‘Jurassic Park’, ‘Pirates of the Caribbean’, ‘Toy Story’, ‘Batman’], I extracted the rating data of all the movies in those franchises, then removing nan values row-wise for each franchise, since it is more logical to compare the ratings of participants who rated all the movies of that franchise. <br>\n",
    "Since movie ratings cannot be reduced to mean because of the psychological value behind each rating, and there are more than two independent movie datasets for each franchise, I performed the Kruskal-Wallis test. <br>\n",
    "The p-values (rounded to 3 decimal places)  are:\n",
    "\n",
    "\n",
    "| Movie franchise | p-value | Conclusion |\n",
    "| --- | --- | --- |\n",
    "| ‘Star Wars’ | 0.000 | Inconsistent |\n",
    "| ‘Harry Potter’ | 0.118 | Consistent |\n",
    "| ‘The Matrix’ | 0.000 | Inconsistent |\n",
    "| ‘Indiana Jones’ | 0.000 | Inconsistent |\n",
    "| ‘Jurassic Park’ | 0.000 | Inconsistent |\n",
    "| ‘Pirates of the Caribbean’ | 0.036 | Inconsistent |\n",
    "| ‘Toy Story’ | 0.000 | Inconsistent |\n",
    "| ‘Batman’ | 0.000 | Inconsistent |\n",
    "\n",
    "Conclusion: 7 out of 8 movie franchises have inconsistent ratings by the viewers. The only franchise in this dataset with consistent ratings from viewers is ‘Harry Potter’.\n"
   ]
  },
  {
   "cell_type": "markdown",
   "id": "7e6f3c05",
   "metadata": {},
   "source": [
    "### Question 8"
   ]
  },
  {
   "cell_type": "markdown",
   "id": "22a14949",
   "metadata": {},
   "source": [
    "Build a prediction model of your choice (regression or supervised learning) to predict movie\n",
    "ratings (for all 400 movies) from personality factors only. Make sure to use cross-validation\n",
    "methods to avoid overfitting and characterize the accuracy of your model."
   ]
  },
  {
   "cell_type": "code",
   "execution_count": 676,
   "id": "d51fc0ba",
   "metadata": {},
   "outputs": [
    {
     "name": "stdout",
     "output_type": "stream",
     "text": [
      "2.5\n",
      "(54, 7)\n"
     ]
    },
    {
     "data": {
      "image/png": "[encoded data removed]",
      "text/plain": [
       "<Figure size 432x288 with 1 Axes>"
      ]
     },
     "metadata": {
      "needs_background": "light"
     },
     "output_type": "display_data"
    },
    {
     "data": {
      "text/plain": [
       "<function matplotlib.pyplot.show(close=None, block=None)>"
      ]
     },
     "execution_count": 676,
     "metadata": {},
     "output_type": "execute_result"
    },
    {
     "data": {
      "image/png": "[encoded data removed]",
      "text/plain": [
       "<Figure size 432x288 with 1 Axes>"
      ]
     },
     "metadata": {
      "needs_background": "light"
     },
     "output_type": "display_data"
    },
    {
     "data": {
      "image/png": "[encoded data removed]",
      "text/plain": [
       "<Figure size 432x288 with 1 Axes>"
      ]
     },
     "metadata": {
      "needs_background": "light"
     },
     "output_type": "display_data"
    }
   ],
   "source": [
    "#draft\n",
    "rotatedP = pd.DataFrame(rotatedPersona[:,0:6])\n",
    "y = movieRatings.iloc[:,0]\n",
    "labels = movieRatings.columns\n",
    "med = y.median()\n",
    "print(med)\n",
    "\n",
    "dropIndex = y.drop(index=personaInd).index # Gets indices of differences\n",
    "y = y.drop(dropIndex) # Drops indexes from saw\n",
    "#x = np.column_stack((rotatedPersona[:,0],rotatedPersona[:,1],rotatedPersona[:,2],rotatedPersona[:,3],rotatedPersona[:,4],rotatedPersona[:,5]))\n",
    "\n",
    "combined = pd.concat([y, rotatedP], axis=1).reset_index().drop(['index'], axis=1)\n",
    "combined.loc[(combined[labels[0]] < med), labels[0]] = 0 # Order for this matters\n",
    "combined.loc[(combined[labels[0]] > med), labels[0]] = 1\n",
    "\n",
    "combined = combined.where(combined[labels[0]] != med)\n",
    "\n",
    "combined = combined.dropna()\n",
    "print(combined.shape)\n",
    "y = combined[labels[0]].to_numpy()\n",
    "x = combined.drop(labels[0],axis=1).to_numpy()\n",
    "\n",
    "#SVM\n",
    "clf = svm.SVC(kernel='linear').fit(x,y)\n",
    "sV = clf.support_vectors_ # Retrieve the support vectors from the model\n",
    "plt.plot(x[np.argwhere(y==0),0],x[np.argwhere(y==0),1],'o',markersize=2,color='green')\n",
    "plt.plot(x[np.argwhere(y==1),0],x[np.argwhere(y==1),1],'o',markersize=2,color='blue')\n",
    "plt.plot(sV[:,0],sV[:,1],'o',markersize=2,color='red')\n",
    "plt.legend(['worse than average','better than average','support vectors'])\n",
    "plt.show()\n",
    "\n",
    "#Random Forest\n",
    "rfcModel = RandomForestClassifier(n_estimators=100).fit(xTrain,yTrain) # 100 trees\n",
    "rfcPredictions = rfcModel.predict(xTest)\n",
    "modelAccuracy = accuracy_score(yTest,rfcPredictions)\n",
    "\n",
    "plot_roc_curve(svmModel,xTest,yTest)\n",
    "plt.plot([0,1],[0,1],'g--')\n",
    "plot_roc_curve(rfcModel,xTest,yTest)\n",
    "plt.plot([0,1],[0,1],'g--')\n",
    "plt.show"
   ]
  },
  {
   "cell_type": "code",
   "execution_count": 738,
   "id": "0d12c2e2",
   "metadata": {},
   "outputs": [
    {
     "name": "stdout",
     "output_type": "stream",
     "text": [
      "400\n"
     ]
    }
   ],
   "source": [
    "labels = movieRatings.columns\n",
    "rotatedP = pd.DataFrame(rotatedPersona[:,0:6])\n",
    "RFCModelAccuracy = []\n",
    "\n",
    "for i in range(400):  \n",
    "    y = movieRatings.iloc[:,i]\n",
    "    med = y.median()\n",
    "\n",
    "    dropIndex = y.drop(index=personaInd).index # Gets indices of differences\n",
    "    y = y.drop(dropIndex) # Drops indexes from saw\n",
    "    #x = np.column_stack((rotatedPersona[:,0],rotatedPersona[:,1],rotatedPersona[:,2],rotatedPersona[:,3],rotatedPersona[:,4],rotatedPersona[:,5]))\n",
    "\n",
    "    combined = pd.concat([y, rotatedP], axis=1).reset_index().drop(['index'], axis=1)\n",
    "    combined.loc[(combined[labels[i]] < med), labels[i]] = 0 # Order for this matters\n",
    "    combined.loc[(combined[labels[i]] > med), labels[i]] = 1\n",
    "\n",
    "    combined = combined.where(combined[labels[i]] != med)\n",
    "\n",
    "    combined = combined.dropna()\n",
    "    \n",
    "    y = combined[labels[i]].to_numpy()\n",
    "    x = combined.drop(labels[i],axis=1).to_numpy()\n",
    "    \n",
    "    #split the data using 20-80 split\n",
    "    xTrain, xTest, yTrain, yTest = train_test_split(x,y,test_size = 0.2,random_state=0)\n",
    "    \n",
    "    #Random Forest\n",
    "    rfcModel = RandomForestClassifier(n_estimators=100).fit(xTrain,yTrain) # 100 trees\n",
    "    rfcPredictions = rfcModel.predict(xTest)\n",
    "    modelAccuracy = accuracy_score(yTest,rfcPredictions)\n",
    "    RFCModelAccuracy.append(modelAccuracy)\n",
    "    \n",
    "print(len(RFCModelAccuracy))"
   ]
  },
  {
   "cell_type": "code",
   "execution_count": 739,
   "id": "45a8e1cc",
   "metadata": {},
   "outputs": [
    {
     "name": "stdout",
     "output_type": "stream",
     "text": [
      "0.5208613639472468\n",
      "0.5238095238095238\n",
      "1.0\n",
      "0.08333333333333333\n"
     ]
    }
   ],
   "source": [
    "print(np.mean(RFCModelAccuracy))\n",
    "print(np.median(RFCModelAccuracy))\n",
    "print(np.max(RFCModelAccuracy))\n",
    "print(np.min(RFCModelAccuracy))"
   ]
  },
  {
   "cell_type": "code",
   "execution_count": 742,
   "id": "13f12ed0",
   "metadata": {},
   "outputs": [
    {
     "name": "stdout",
     "output_type": "stream",
     "text": [
      "Spirited Away (2001)\n",
      "542\n",
      "3000 Miles to Graceland (2001)\n",
      "77\n"
     ]
    }
   ],
   "source": [
    "maxM = labels[RFCModelAccuracy.index(np.max(RFCModelAccuracy))]\n",
    "minM = labels[RFCModelAccuracy.index(np.min(RFCModelAccuracy))]\n",
    "print(maxM)\n",
    "print(movieRatings[maxM].count())\n",
    "print(minM)\n",
    "print(movieRatings[minM].count())"
   ]
  },
  {
   "cell_type": "code",
   "execution_count": 711,
   "id": "ca6dde10",
   "metadata": {},
   "outputs": [
    {
     "name": "stdout",
     "output_type": "stream",
     "text": [
      "Pirates of the Caribbean: Dead Man's Chest (2006)\n",
      "[0. 1. 1. 1. 0. 0. 0. 1. 1. 1. 1. 1. 0. 0. 1. 1. 1. 1. 1. 1. 1. 1. 0. 0.\n",
      " 1. 1. 0. 0. 1. 0. 0. 0. 1. 1. 1. 0. 1. 0. 0. 1. 0. 0. 1. 0. 1. 1. 0. 0.\n",
      " 1. 0. 1. 0. 1. 1. 1. 1. 0. 0. 1. 1. 0. 0. 0. 1. 0. 0. 0. 0. 0. 1. 0. 0.\n",
      " 0. 1. 0. 0. 0. 0. 0. 1. 0. 0. 0. 0. 1. 1. 0. 1. 0. 1. 1. 0. 0. 1. 1. 0.\n",
      " 0. 0. 1. 0. 0. 1. 0. 1. 1.]\n"
     ]
    },
    {
     "data": {
      "image/png": "[encoded data removed]",
      "text/plain": [
       "<Figure size 432x288 with 1 Axes>"
      ]
     },
     "metadata": {
      "needs_background": "light"
     },
     "output_type": "display_data"
    }
   ],
   "source": [
    "ind = RFCModelAccuracy.index(np.percentile(RFCModelAccuracy,50,interpolation='nearest'))\n",
    "print(labels[ind])\n",
    "\n",
    "y = movieRatings.iloc[:,ind]\n",
    "med = y.median()\n",
    "\n",
    "dropIndex = y.drop(index=personaInd).index # Gets indices of differences\n",
    "y = y.drop(dropIndex) # Drops indexes from saw\n",
    "#x = np.column_stack((rotatedPersona[:,0],rotatedPersona[:,1],rotatedPersona[:,2],rotatedPersona[:,3],rotatedPersona[:,4],rotatedPersona[:,5]))\n",
    "\n",
    "combined = pd.concat([y, rotatedP], axis=1).reset_index().drop(['index'], axis=1)\n",
    "combined.loc[(combined[labels[ind]] < med), labels[ind]] = 0 # Order for this matters\n",
    "combined.loc[(combined[labels[ind]] > med), labels[ind]] = 1\n",
    "\n",
    "combined = combined.where(combined[labels[ind]] != med)\n",
    "\n",
    "combined = combined.dropna()\n",
    "    \n",
    "y = combined[labels[ind]].to_numpy()\n",
    "x = combined.drop(labels[ind],axis=1).to_numpy()\n",
    "#split the data using 20-80 split\n",
    "xTrain, xTest, yTrain, yTest = train_test_split(x,y,test_size = 0.2,random_state=0)\n",
    "    \n",
    "#Random Forest\n",
    "rfcModel = RandomForestClassifier(n_estimators=100).fit(xTrain,yTrain) # 100 trees\n",
    "rfcPredictions = rfcModel.predict(xTest)\n",
    "modelAccuracy = accuracy_score(yTest,rfcPredictions)\n",
    "\n",
    "plot_roc_curve(rfcModel,xTest,yTest)\n",
    "plt.plot([0,1],[0,1],'g--')\n",
    "plt.show\n",
    "\n",
    "print(yTest)"
   ]
  },
  {
   "cell_type": "markdown",
   "id": "177267bc",
   "metadata": {},
   "source": [
    "Example of a ROC curve"
   ]
  },
  {
   "cell_type": "code",
   "execution_count": 712,
   "id": "df3d9f02",
   "metadata": {},
   "outputs": [],
   "source": [
    "labels = movieRatings.columns\n",
    "RegressionModelAccuracy = []\n",
    "\n",
    "for i in range(400):\n",
    "    rotatedP = pd.DataFrame(rotatedPersona[:,0:6])\n",
    "    y = movieRatings.iloc[:,i]\n",
    "    med = y.median()\n",
    "\n",
    "    dropIndex = y.drop(index=personaInd).index # Gets indices of differences\n",
    "    y = y.drop(dropIndex) # Drops indexes from saw\n",
    "    #x = np.column_stack((rotatedPersona[:,0],rotatedPersona[:,1],rotatedPersona[:,2],rotatedPersona[:,3],rotatedPersona[:,4],rotatedPersona[:,5]))\n",
    "\n",
    "    combined = pd.concat([y, rotatedP], axis=1).reset_index().drop(['index'], axis=1)\n",
    "    combined.loc[(combined[labels[i]] < med), labels[i]] = 0 # Order for this matters\n",
    "    combined.loc[(combined[labels[i]] > med), labels[i]] = 1\n",
    "\n",
    "    combined = combined.where(combined[labels[i]] != med)\n",
    "\n",
    "    combined = combined.dropna()\n",
    "    \n",
    "    y = combined[labels[i]].to_numpy()\n",
    "    x = combined.drop(labels[i],axis=1).to_numpy()\n",
    "    #split the data using 20-80 split\n",
    "    xTrain, xTest, yTrain, yTest = train_test_split(x,y,test_size = 0.2,random_state=0)\n",
    "    model = LinearRegression().fit(xTrain,yTrain)\n",
    "    rSqr = model.score(xTest,yTest)\n",
    "    RegressionModelAccuracy.append(rSqr)"
   ]
  },
  {
   "cell_type": "code",
   "execution_count": 713,
   "id": "0156fa01",
   "metadata": {},
   "outputs": [
    {
     "name": "stdout",
     "output_type": "stream",
     "text": [
      "-0.16862415162986846\n",
      "-0.07367461389276186\n",
      "1.0\n",
      "-3.0384857601608317\n"
     ]
    }
   ],
   "source": [
    "print(np.mean(RegressionModelAccuracy))\n",
    "print(np.median(RegressionModelAccuracy))\n",
    "print(np.max(RegressionModelAccuracy))\n",
    "print(np.min(RegressionModelAccuracy))"
   ]
  },
  {
   "cell_type": "code",
   "execution_count": null,
   "id": "c9ec08fd",
   "metadata": {},
   "outputs": [],
   "source": [
    "    #SVM\n",
    "    svmModel = svm.SVC(kernel='linear').fit(xTrain,yTrain)\n",
    "    svmPredictions = svmModel.predict(xTest)\n",
    "    modelAccuracy = accuracy_score(yTest,svmPredictions)\n",
    "    SVMModelAccuracy.append(modelAccuracy)"
   ]
  },
  {
   "cell_type": "markdown",
   "id": "1f138a9a",
   "metadata": {},
   "source": [
    "Using the personality in question 2 after PCA, I used the first 6 principle components of the rotated data as the predictors for movie ratings. I created a model to predict individual ratings of individual movies based on these 6 principle components of the personality data. <br>\n",
    "I did a median split for the movie ratings, and removed the ratings which are the same as the median. The movie ratings that are higher than the median are “above average,” and the ones less than the median are “below average.”<br>\n",
    "I kept the indices of the rows with nan of the personality data to remove those rows from the movie rating data, then combined each movie rating with the predictors and removed nan row-wise. I then separated the predictors and the movie rating into x and y, then split the data into training and testing datasets using the train_test_split method from sklearn, where 80% of the data is training and 20% is for testing.\n",
    "After having the data, I used the random forest on the training set to get a model. Then, I did cross-validation on the 20% testing dataset using the AUC method. Among the 400 movies, the maximum AUC was 1.000, while the mean and median was around 0.520, and the minimum was 0.083. The movie with the highest AUC was ‘Spirited Away (2001)’, while the movie with the lowest AUC was ‘3000 Miles to Graceland (2001)’.\n",
    "One of the problems with this prediction is that some movies do not have many real ratings, so it is difficult for the prediction to be accurate. <br>\n",
    "\n",
    "I also tried to create a multiple regression model, but the result was not as good as the random forests method, as the mean COD is only 0.169.\n"
   ]
  },
  {
   "cell_type": "markdown",
   "id": "46ab35bc",
   "metadata": {},
   "source": [
    "### Question 9"
   ]
  },
  {
   "cell_type": "markdown",
   "id": "1cc74d0f",
   "metadata": {},
   "source": [
    "Build a prediction model of your choice (regression or supervised learning) to predict movie\n",
    "ratings (for all 400 movies) from gender identity, sibship status and social viewing preferences (columns 475-477) only. Make sure to use cross-validation methods to avoid overfitting and characterize the accuracy of your model."
   ]
  },
  {
   "cell_type": "code",
   "execution_count": 743,
   "id": "e2db21a9",
   "metadata": {},
   "outputs": [
    {
     "name": "stdout",
     "output_type": "stream",
     "text": [
      "0.5392738970092542\n",
      "0.5465367965367965\n",
      "1.0\n",
      "0.08333333333333333\n"
     ]
    }
   ],
   "source": [
    "labels = movieRatings.columns\n",
    "predictors = pd.concat([gender,onlyChild,socialViewPref], axis=1)\n",
    "RFCModelAccuracy = []\n",
    "\n",
    "for i in range(400):  \n",
    "    y = movieRatings.iloc[:,i]\n",
    "    med = y.median()\n",
    "\n",
    "    combined = pd.concat([y, predictors], axis=1)\n",
    "    combined.loc[(combined[labels[i]] < med), labels[i]] = 0 # Order for this matters\n",
    "    combined.loc[(combined[labels[i]] > med), labels[i]] = 1\n",
    "\n",
    "    combined = combined.where(combined[labels[i]] != med)\n",
    "\n",
    "    combined = combined.dropna()\n",
    "    \n",
    "    y = combined[labels[i]].to_numpy()\n",
    "    x = combined.drop(labels[i],axis=1).to_numpy()\n",
    "    #split the data using 20-80 split\n",
    "    xTrain, xTest, yTrain, yTest = train_test_split(x,y,test_size = 0.2,random_state=0)\n",
    "    \n",
    "    #Random Forest\n",
    "    rfcModel = RandomForestClassifier(n_estimators=100).fit(xTrain,yTrain) # 100 trees\n",
    "    rfcPredictions = rfcModel.predict(xTest)\n",
    "    modelAccuracy = accuracy_score(yTest,rfcPredictions)\n",
    "    RFCModelAccuracy.append(modelAccuracy)\n",
    "    \n",
    "print(np.mean(RFCModelAccuracy))\n",
    "print(np.median(RFCModelAccuracy))\n",
    "print(np.max(RFCModelAccuracy))\n",
    "print(np.min(RFCModelAccuracy))"
   ]
  },
  {
   "cell_type": "code",
   "execution_count": 744,
   "id": "b692b012",
   "metadata": {},
   "outputs": [
    {
     "name": "stdout",
     "output_type": "stream",
     "text": [
      "Spirited Away (2001)\n",
      "542\n",
      "Crimson Tide (1995)\n",
      "74\n"
     ]
    }
   ],
   "source": [
    "maxM = labels[RFCModelAccuracy.index(np.max(RFCModelAccuracy))]\n",
    "minM = labels[RFCModelAccuracy.index(np.min(RFCModelAccuracy))]\n",
    "print(maxM)\n",
    "print(movieRatings[maxM].count())\n",
    "print(minM)\n",
    "print(movieRatings[minM].count())"
   ]
  },
  {
   "cell_type": "code",
   "execution_count": 715,
   "id": "e2d7713b",
   "metadata": {},
   "outputs": [
    {
     "name": "stdout",
     "output_type": "stream",
     "text": [
      "Shrek 2 (2004)\n",
      "[0. 0. 1. 0. 1. 1. 1. 0. 1. 0. 1. 1. 1. 0. 0. 1. 0. 1. 1. 0. 1. 0. 0. 0.\n",
      " 0. 1. 0. 1. 1. 0. 0. 1. 1. 1. 0. 0. 0. 1. 0. 0. 1. 0. 0. 1. 0. 1. 0. 0.\n",
      " 0. 0. 1. 1. 0. 1. 0. 1. 0. 1. 0. 1. 1. 1. 1. 0. 0. 1. 1. 1. 0. 1. 1. 0.\n",
      " 1. 0. 0. 0. 0. 0. 0. 0. 0. 1. 1. 0. 0. 1. 0. 0. 0. 0. 1. 1. 1. 1. 0. 1.\n",
      " 0. 0. 1. 1. 0. 1. 1. 1. 0. 1. 1. 0. 1. 1. 0. 0. 1. 0. 1. 1. 1. 0. 1. 1.\n",
      " 1. 1. 0. 0. 0.]\n"
     ]
    },
    {
     "data": {
      "image/png": "[encoded data removed]",
      "text/plain": [
       "<Figure size 432x288 with 1 Axes>"
      ]
     },
     "metadata": {
      "needs_background": "light"
     },
     "output_type": "display_data"
    }
   ],
   "source": [
    "ind = RFCModelAccuracy.index(np.percentile(RFCModelAccuracy,50,interpolation='nearest'))\n",
    "print(labels[ind])\n",
    "\n",
    "y = movieRatings.iloc[:,ind]\n",
    "med = y.median()\n",
    "\n",
    "dropIndex = y.drop(index=personaInd).index # Gets indices of differences\n",
    "y = y.drop(dropIndex) # Drops indexes from saw\n",
    "#x = np.column_stack((rotatedPersona[:,0],rotatedPersona[:,1],rotatedPersona[:,2],rotatedPersona[:,3],rotatedPersona[:,4],rotatedPersona[:,5]))\n",
    "\n",
    "combined = pd.concat([y, rotatedP], axis=1).reset_index().drop(['index'], axis=1)\n",
    "combined.loc[(combined[labels[ind]] < med), labels[ind]] = 0 # Order for this matters\n",
    "combined.loc[(combined[labels[ind]] > med), labels[ind]] = 1\n",
    "\n",
    "combined = combined.where(combined[labels[ind]] != med)\n",
    "\n",
    "combined = combined.dropna()\n",
    "    \n",
    "y = combined[labels[ind]].to_numpy()\n",
    "x = combined.drop(labels[ind],axis=1).to_numpy()\n",
    "#split the data using 20-80 split\n",
    "xTrain, xTest, yTrain, yTest = train_test_split(x,y,test_size = 0.2,random_state=0)\n",
    "    \n",
    "#Random Forest\n",
    "rfcModel = RandomForestClassifier(n_estimators=100).fit(xTrain,yTrain) # 100 trees\n",
    "rfcPredictions = rfcModel.predict(xTest)\n",
    "modelAccuracy = accuracy_score(yTest,rfcPredictions)\n",
    "\n",
    "plot_roc_curve(rfcModel,xTest,yTest)\n",
    "plt.plot([0,1],[0,1],'g--')\n",
    "plt.show\n",
    "\n",
    "print(yTest)"
   ]
  },
  {
   "cell_type": "markdown",
   "id": "17043c8e",
   "metadata": {},
   "source": [
    "Example of a ROC curve "
   ]
  },
  {
   "cell_type": "markdown",
   "id": "eac6a8ef",
   "metadata": {},
   "source": [
    "I created a model to predict individual ratings of individual movies based on gender identity, sibship status, and social viewing preference. Hence, the predictors are gender identity, sibship status, and social viewing preference.\n",
    "I did a median split for the movie ratings, and removed the ratings which are the same as the median. The movie ratings that are higher than the median are “above average,” and the ones less than the median are “below average.”\n",
    "I combined each movie rating with the predictors and removed nan row-wise. I then separated the predictors and the movie rating into x and y, then split the data into training and testing datasets using the train_test_split method from sklearn, where 80% of the data is training and 20% is for testing.\n",
    "After having the data, I used the random forest on the training set to get a model. Then, I did cross-validation on the 20% testing dataset using the AUC method. Among the 400 movies, the maximum AUC was 1.000, while the mean was 0.540 and median was around 0.550, and the minimum was 0.083. Based on the mean and median, gender identity, sibship status, and social viewing preference are slightly better at predicting movie ratings compared to personalities. The movie with the highest AUC was ‘Spirited Away (2001)’, while the movie with the lowest AUC was ‘Crimson Tide (1995)’.\n",
    "\n",
    "One of the problems with this prediction is that some movies do not have many real ratings, so it is difficult for the prediction to be accurate. \n"
   ]
  },
  {
   "cell_type": "markdown",
   "id": "ee1c718e",
   "metadata": {},
   "source": [
    "### Question 10"
   ]
  },
  {
   "cell_type": "markdown",
   "id": "6853ebd6",
   "metadata": {},
   "source": [
    "Build a prediction model of your choice (regression or supervised learning) to predict movie ratings (for all 400 movies) from all available factors that are not movie ratings (columns 401- 477). Make sure to use cross-validation methods to avoid overfitting and characterize the accuracy of your model."
   ]
  },
  {
   "cell_type": "code",
   "execution_count": 752,
   "id": "2ae6818b",
   "metadata": {},
   "outputs": [
    {
     "data": {
      "image/png": "[encoded data removed]",
      "text/plain": [
       "<Figure size 432x288 with 1 Axes>"
      ]
     },
     "metadata": {
      "needs_background": "light"
     },
     "output_type": "display_data"
    }
   ],
   "source": [
    "#PCA first because there would be overlapping \n",
    "# dont include the categorical data\n",
    "predictors = df.iloc[:,400:476]\n",
    "predictors = predictors.dropna(axis=0,how='any')\n",
    "predictInd = predictors.index\n",
    "\n",
    "zscored = stats.zscore(predictors)\n",
    "pca = PCA().fit(zscored)\n",
    "eigVals = pca.explained_variance_\n",
    "loadings = pca.components_\n",
    "rotated = pca.fit_transform(zscored)\n",
    "\n",
    "#scree plot\n",
    "numClasses = predictors.shape[1]\n",
    "x = np.linspace(1,numClasses,numClasses)\n",
    "plt.bar(x, eigVals, color='gray')\n",
    "plt.plot([0,numClasses],[1,1],color='orange') # Orange Kaiser criterion line for the fox\n",
    "plt.xlabel('Principal component')\n",
    "plt.ylabel('Eigenvalue')\n",
    "plt.show()"
   ]
  },
  {
   "cell_type": "code",
   "execution_count": 753,
   "id": "5f0f59b4",
   "metadata": {},
   "outputs": [
    {
     "data": {
      "image/png": "[encoded data removed]",
      "text/plain": [
       "<Figure size 432x288 with 1 Axes>"
      ]
     },
     "metadata": {
      "needs_background": "light"
     },
     "output_type": "display_data"
    },
    {
     "name": "stdout",
     "output_type": "stream",
     "text": [
      "Worries a lot\n",
      "Can be moody\n",
      "The emotions on the screen \"rub off\" on me - for instance if something sad is happening I get sad or if something frightening is happening I get scared\n"
     ]
    }
   ],
   "source": [
    "labels = predictors.columns\n",
    "whichPrincipalComponent = 1 # Select and look at once factor at a time \n",
    "plt.bar(x,loadings[whichPrincipalComponent,:]*-1) # note: eigVecs multiplied by -1\n",
    "plt.xlabel('Question')\n",
    "plt.ylabel('Loading')\n",
    "plt.show() # Show bar plot\n",
    "\n",
    "loadAbs = np.abs(loadings[whichPrincipalComponent,:])\n",
    "#stack index row \n",
    "indArr = []\n",
    "for i in range(loadAbs.shape[0]):\n",
    "    indArr.append(i)\n",
    "indArr = np.array(indArr,dtype=int)\n",
    "loadAbs = np.stack((indArr,loadAbs),axis=0)\n",
    "loadAbs = np.transpose(loadAbs)\n",
    "loadingsAbs = pd.DataFrame(loadAbs,columns=['index','loadingsAbs'])\n",
    "\n",
    "loadingsAbs = loadingsAbs.sort_values('loadingsAbs', axis=0,ascending=False)\n",
    "#print(loadingsAbs)\n",
    "\n",
    "# Display questions\n",
    "indexes = loadingsAbs.loc[:,loadingsAbs.columns.str.contains('index')] \n",
    "maxInd = int(indexes.iloc[0])\n",
    "print(labels[maxInd])\n",
    "print(labels[int(indexes.iloc[1])])\n",
    "print(labels[int(indexes.iloc[2])])"
   ]
  },
  {
   "cell_type": "code",
   "execution_count": 755,
   "id": "b272367d",
   "metadata": {},
   "outputs": [
    {
     "name": "stdout",
     "output_type": "stream",
     "text": [
      "Number of factors selected by Kaiser criterion: 18\n",
      "Number of factors to account for at least 90% variance: 55\n",
      "58.82311819008701\n"
     ]
    }
   ],
   "source": [
    "threshold = 1\n",
    "print('Number of factors selected by Kaiser criterion:', np.count_nonzero(eigVals > threshold))\n",
    "covarExplained = eigVals/sum(eigVals)*100\n",
    "threshold = 90\n",
    "eigSum = np.cumsum(covarExplained)\n",
    "print('Number of factors to account for at least 90% variance:', np.count_nonzero(eigSum < threshold) + 1)\n",
    "print(np.sum(covarExplained[:19]))"
   ]
  },
  {
   "cell_type": "markdown",
   "id": "13f5f9e8",
   "metadata": {},
   "source": [
    "Before creating a model to predict individual ratings of individual movies based on all other factors beside movie ratings, I did PCA on all the sensation seeking, personality and movie experience factors (columns 401 to 474), since there are 73 factors so there would definitely be dependent variables. I left the 3 categorical datasets of gender, social viewing preference and only child out of the PCA and combined these data afterwards. <br>\n",
    "Number of factors selected by Kaiser criterion: 18 <br>\n",
    "Account for 59% of the variance\n",
    "<br>\n",
    "First principle component (the predictor that account for the most)\n",
    "Top 3 factors are: \n",
    "1. Worries a lot\n",
    "2. Can be moody\n",
    "3. The emotions on the screen \"rub off\" on me - for instance if something sad is happening I get sad or if something frightening is happening I get scared\n",
    "<br>\n",
    "\n",
    "This can be interpreted as “being emotional”\n"
   ]
  },
  {
   "cell_type": "code",
   "execution_count": 756,
   "id": "0104ef11",
   "metadata": {},
   "outputs": [
    {
     "name": "stdout",
     "output_type": "stream",
     "text": [
      "0.5395131319224474\n",
      "0.54\n",
      "1.0\n",
      "0.14285714285714285\n"
     ]
    }
   ],
   "source": [
    "labels = movieRatings.columns\n",
    "predictorsNonCata = pd.DataFrame(rotated[:,:19])\n",
    "predictors = pd.concat([predictorsNonCata,gender,onlyChild,socialViewPref], axis=1)\n",
    "RFCModelAccuracy = []\n",
    "\n",
    "for i in range(400):  \n",
    "    y = movieRatings.iloc[:,i]\n",
    "    med = y.median()\n",
    "\n",
    "    combined = pd.concat([y, predictors], axis=1)\n",
    "    combined.loc[(combined[labels[i]] < med), labels[i]] = 0 # Order for this matters\n",
    "    combined.loc[(combined[labels[i]] > med), labels[i]] = 1\n",
    "\n",
    "    combined = combined.where(combined[labels[i]] != med)\n",
    "\n",
    "    combined = combined.dropna()\n",
    "    \n",
    "    y = combined[labels[i]].to_numpy()\n",
    "    x = combined.drop(labels[i],axis=1).to_numpy()\n",
    "    #split the data using 20-80 split\n",
    "    xTrain, xTest, yTrain, yTest = train_test_split(x,y,test_size = 0.2,random_state=0)\n",
    "    \n",
    "    #Random Forest\n",
    "    rfcModel = RandomForestClassifier(n_estimators=100).fit(xTrain,yTrain) # 100 trees\n",
    "    rfcPredictions = rfcModel.predict(xTest)\n",
    "    modelAccuracy = accuracy_score(yTest,rfcPredictions)\n",
    "    RFCModelAccuracy.append(modelAccuracy)\n",
    "    \n",
    "print(np.mean(RFCModelAccuracy))\n",
    "print(np.median(RFCModelAccuracy))\n",
    "print(np.max(RFCModelAccuracy))\n",
    "print(np.min(RFCModelAccuracy))"
   ]
  },
  {
   "cell_type": "code",
   "execution_count": 757,
   "id": "c34c0e39",
   "metadata": {},
   "outputs": [
    {
     "name": "stdout",
     "output_type": "stream",
     "text": [
      "Spirited Away (2001)\n",
      "542\n",
      "Double Jeopardy (1999)\n",
      "95\n"
     ]
    }
   ],
   "source": [
    "maxM = labels[RFCModelAccuracy.index(np.max(RFCModelAccuracy))]\n",
    "minM = labels[RFCModelAccuracy.index(np.min(RFCModelAccuracy))]\n",
    "print(maxM)\n",
    "print(movieRatings[maxM].count())\n",
    "print(minM)\n",
    "print(movieRatings[minM].count())"
   ]
  },
  {
   "cell_type": "code",
   "execution_count": 759,
   "id": "62029f07",
   "metadata": {},
   "outputs": [
    {
     "name": "stdout",
     "output_type": "stream",
     "text": [
      "The Big Lebowski (1998)\n",
      "[1. 0. 1. 1. 1. 1. 0. 1. 0. 0. 0. 1. 1. 0. 0. 0. 1. 1. 1. 1. 1. 0. 1. 1.\n",
      " 0. 0. 0. 1. 1.]\n"
     ]
    },
    {
     "data": {
      "image/png": "[encoded data removed]",
      "text/plain": [
       "<Figure size 432x288 with 1 Axes>"
      ]
     },
     "metadata": {
      "needs_background": "light"
     },
     "output_type": "display_data"
    }
   ],
   "source": [
    "ind = 305\n",
    "print(labels[ind])\n",
    "\n",
    "y = movieRatings.iloc[:,ind]\n",
    "med = y.median()\n",
    "\n",
    "dropIndex = y.drop(index=personaInd).index # Gets indices of differences\n",
    "y = y.drop(dropIndex) # Drops indexes from saw\n",
    "#x = np.column_stack((rotatedPersona[:,0],rotatedPersona[:,1],rotatedPersona[:,2],rotatedPersona[:,3],rotatedPersona[:,4],rotatedPersona[:,5]))\n",
    "\n",
    "combined = pd.concat([y, rotatedP], axis=1).reset_index().drop(['index'], axis=1)\n",
    "combined.loc[(combined[labels[ind]] < med), labels[ind]] = 0 # Order for this matters\n",
    "combined.loc[(combined[labels[ind]] > med), labels[ind]] = 1\n",
    "\n",
    "combined = combined.where(combined[labels[ind]] != med)\n",
    "\n",
    "combined = combined.dropna()\n",
    "    \n",
    "y = combined[labels[ind]].to_numpy()\n",
    "x = combined.drop(labels[ind],axis=1).to_numpy()\n",
    "#split the data using 20-80 split\n",
    "xTrain, xTest, yTrain, yTest = train_test_split(x,y,test_size = 0.2,random_state=0)\n",
    "    \n",
    "#Random Forest\n",
    "rfcModel = RandomForestClassifier(n_estimators=100).fit(xTrain,yTrain) # 100 trees\n",
    "rfcPredictions = rfcModel.predict(xTest)\n",
    "modelAccuracy = accuracy_score(yTest,rfcPredictions)\n",
    "\n",
    "plot_roc_curve(rfcModel,xTest,yTest)\n",
    "plt.plot([0,1],[0,1],'g--')\n",
    "plt.show\n",
    "\n",
    "print(yTest)"
   ]
  },
  {
   "cell_type": "markdown",
   "id": "9c3fabb9",
   "metadata": {},
   "source": [
    "Example of a ROC curve"
   ]
  },
  {
   "cell_type": "markdown",
   "id": "940811d8",
   "metadata": {},
   "source": [
    "I did a median split for the movie ratings, and removed the ratings which are the same as the median. The movie ratings that are higher than the median are “above average,” and the ones less than the median are “below average.”\n",
    "I combined each movie rating with the 18 predictors in the new coordinates of rotated data after doing the PCA along with the 3 categorical data of gender, social viewing preference and only child and removed nan row-wise. I then separated the predictors and the movie rating into x and y, then split the data into training and testing datasets using the train_test_split method from sklearn, where 80% of the data is training and 20% is for testing.\n",
    "After having the data, I used the random forest on the training set to get a model. Then, I did cross-validation on the 20% testing dataset using the AUC method. Among the 400 movies, the maximum AUC was 1.000, while the mean was 0.540 and median was around 0.54, and the minimum was 0.214. Based on the min, this is a better predictor set than in the previous two questions. The movie with the highest AUC was ‘Spirited Away (2001)’, while the movie with the lowest AUC was ‘Double Jeopardy (1999)’.\n",
    "\n",
    "One of the problems with this prediction is that some movies do not have many real ratings, so it is difficult for the prediction to be accurate. \n"
   ]
  },
  {
   "cell_type": "code",
   "execution_count": null,
   "id": "35539067",
   "metadata": {},
   "outputs": [],
   "source": []
  }
 ],
 "metadata": {
  "kernelspec": {
   "display_name": "Python 3",
   "language": "python",
   "name": "python3"
  },
  "language_info": {
   "codemirror_mode": {
    "name": "ipython",
    "version": 3
   },
   "file_extension": ".py",
   "mimetype": "text/x-python",
   "name": "python",
   "nbconvert_exporter": "python",
   "pygments_lexer": "ipython3",
   "version": "3.8.8"
  }
 },
 "nbformat": 4,
 "nbformat_minor": 5
}
